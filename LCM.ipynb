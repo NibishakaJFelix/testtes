{
 "cells": [
  {
   "cell_type": "code",
   "execution_count": 1,
   "id": "74facb87",
   "metadata": {},
   "outputs": [
    {
     "name": "stdout",
     "output_type": "stream",
     "text": [
      "Enter the first number: 6\n",
      "Enter the second number: 8\n",
      "The LCM of 6 and 8 is 24.\n"
     ]
    }
   ],
   "source": [
    "# Define a function to find the greatest common divisor of two numbers\n",
    "def gcd(a, b):\n",
    "    while b:\n",
    "        a, b = b, a % b\n",
    "    return a\n",
    "\n",
    "# Define a function to find the least common multiple of two numbers\n",
    "def lcm(a, b):\n",
    "    return a * b // gcd(a, b)\n",
    "\n",
    "# Get the two numbers from the user\n",
    "num1 = int(input(\"Enter the first number: \"))\n",
    "num2 = int(input(\"Enter the second number: \"))\n",
    "\n",
    "# Find the LCM of the two numbers\n",
    "lcm_value = lcm(num1, num2)\n",
    "\n",
    "# Print the result\n",
    "print(f\"The LCM of {num1} and {num2} is {lcm_value}.\")\n"
   ]
  },
  {
   "cell_type": "code",
   "execution_count": 2,
   "id": "a10e9e11",
   "metadata": {},
   "outputs": [
    {
     "name": "stdout",
     "output_type": "stream",
     "text": [
      "Enter the number of integers: 4\n",
      "Enter integer 1: 3\n",
      "Enter integer 2: 7\n",
      "Enter integer 3: 2\n",
      "Enter integer 4: 8\n",
      "The LCM of 3, 7, 2, 8 is 168.\n"
     ]
    }
   ],
   "source": [
    "# Define a function to find the greatest common divisor of two numbers\n",
    "def gcd(a, b):\n",
    "    while b:\n",
    "        a, b = b, a % b\n",
    "    return a\n",
    "\n",
    "# Define a function to find the least common multiple of two numbers\n",
    "def lcm(a, b):\n",
    "    return a * b // gcd(a, b)\n",
    "\n",
    "# Get the numbers from the user\n",
    "n = int(input(\"Enter the number of integers: \"))\n",
    "numbers = []\n",
    "for i in range(n):\n",
    "    number = int(input(f\"Enter integer {i+1}: \"))\n",
    "    numbers.append(number)\n",
    "\n",
    "# Find the LCM of the numbers\n",
    "lcm_value = numbers[0]\n",
    "for i in range(1, n):\n",
    "    lcm_value = lcm(lcm_value, numbers[i])\n",
    "\n",
    "# Print the result\n",
    "print(f\"The LCM of {', '.join(str(x) for x in numbers)} is {lcm_value}.\")\n"
   ]
  },
  {
   "cell_type": "code",
   "execution_count": null,
   "id": "5e317617",
   "metadata": {},
   "outputs": [],
   "source": []
  }
 ],
 "metadata": {
  "kernelspec": {
   "display_name": "Python 3 (ipykernel)",
   "language": "python",
   "name": "python3"
  },
  "language_info": {
   "codemirror_mode": {
    "name": "ipython",
    "version": 3
   },
   "file_extension": ".py",
   "mimetype": "text/x-python",
   "name": "python",
   "nbconvert_exporter": "python",
   "pygments_lexer": "ipython3",
   "version": "3.9.12"
  }
 },
 "nbformat": 4,
 "nbformat_minor": 5
}
